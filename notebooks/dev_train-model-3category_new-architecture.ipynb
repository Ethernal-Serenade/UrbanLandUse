{
 "cells": [
  {
   "cell_type": "markdown",
   "metadata": {},
   "source": [
    "# Development: Train 3-Category Classifier\n",
    "Use the latest and greatest model structures, parameters, workflow (ie class weighting, learning fast & slow, etc) to train a 3-category classifier using only the non-road training samples.\n",
    "\n",
    "This is the latest version as of the start of Phase IV, meant to leverage the previous changes in order to utilize the `fit_generator`.\n",
    "\n",
    "Date: 2019-02-01  \n",
    "Author: Peter Kerins  "
   ]
  },
  {
   "cell_type": "markdown",
   "metadata": {},
   "source": [
    "## Preparation"
   ]
  },
  {
   "cell_type": "markdown",
   "metadata": {},
   "source": [
    "### Import statements\n",
    "(may be over-inclusive)"
   ]
  },
  {
   "cell_type": "code",
   "execution_count": 1,
   "metadata": {},
   "outputs": [
    {
     "name": "stderr",
     "output_type": "stream",
     "text": [
      "Using TensorFlow backend.\n"
     ]
    },
    {
     "name": "stdout",
     "output_type": "stream",
     "text": [
      "[{u'name': u'Illinois', u'id': 85688697, u'placetype': u'region', u'bbox': [-91.512974, 36.970298, -87.019935, 42.508302], u'path': u'continent:north-america_country:united-states_region:illinois', u'slug': u'north-america_united-states_illinois'}]\n",
      "['', '/usr/lib/python2.7', '/usr/lib/python2.7/plat-x86_64-linux-gnu', '/usr/lib/python2.7/lib-tk', '/usr/lib/python2.7/lib-old', '/usr/lib/python2.7/lib-dynload', '/home/Peter.Kerins/.local/lib/python2.7/site-packages', '/usr/local/lib/python2.7/dist-packages', '/usr/lib/python2.7/dist-packages', '/usr/lib/python2.7/dist-packages/PILcompat', '/usr/lib/python2.7/dist-packages/gtk-2.0', '/usr/local/lib/python2.7/dist-packages/IPython/extensions', '/home/Peter.Kerins/.ipython', '/home/Peter.Kerins/UrbanLandUse/utils']\n"
     ]
    }
   ],
   "source": [
    "# typical, comprehensive imports\n",
    "import warnings\n",
    "warnings.filterwarnings('ignore')\n",
    "#\n",
    "import os\n",
    "import sys\n",
    "import json\n",
    "import itertools\n",
    "import pickle\n",
    "from pprint import pprint\n",
    "#\n",
    "import numpy as np\n",
    "import shapely\n",
    "import cartopy\n",
    "import geojson\n",
    "import fiona\n",
    "import gdal\n",
    "import h5py\n",
    "get_ipython().magic(u'matplotlib inline')\n",
    "import matplotlib.pyplot as plt\n",
    "\n",
    "import pandas as pd\n",
    "\n",
    "import sklearn\n",
    "from sklearn.preprocessing import StandardScaler \n",
    "import ogr, gdal\n",
    "from keras.models import load_model\n",
    "import math\n",
    "from keras.utils import to_categorical\n",
    "from keras.models import load_model\n",
    "from keras import models\n",
    "from keras import layers\n",
    "from keras.layers import Dropout\n",
    "from keras.utils import to_categorical\n",
    "from skimage import measure\n",
    "from skimage import filters\n",
    "from scipy import stats\n",
    "\n",
    "import tensorflow as tf\n",
    "\n",
    "import keras\n",
    "import keras.backend as K\n",
    "from keras.models import Model\n",
    "from keras.layers import Dense, Dropout, Activation, Flatten\n",
    "from keras.layers import Conv2D, MaxPooling2D\n",
    "from keras.layers import Input, Add, Lambda\n",
    "from keras.callbacks import EarlyStopping, ModelCheckpoint, History\n",
    "\n",
    "import collections\n",
    "from pprint import pprint\n",
    "\n",
    "import descarteslabs as dl\n",
    "print dl.places.find('illinois') ## TEST\n",
    "\n",
    "#ULU_REPO = os.environ[\"ULU_REPO\"]\n",
    "#sys.path.append(ULU_REPO+'/utils')\n",
    "sys.path.append('/home/Peter.Kerins/UrbanLandUse/utils')\n",
    "print sys.path\n",
    "\n",
    "import util_descartes\n",
    "import util_ml\n",
    "import util_rasters\n",
    "import util_vectors\n",
    "import util_workflow\n",
    "import util_chips\n",
    "import util_training\n",
    "import util_network\n",
    "import util_scoring\n",
    "from batch_generator import BatchGenerator\n"
   ]
  },
  {
   "cell_type": "markdown",
   "metadata": {},
   "source": [
    "### Set key variables"
   ]
  },
  {
   "cell_type": "code",
   "execution_count": 2,
   "metadata": {},
   "outputs": [],
   "source": [
    "data_root='/data/phase_iv/'\n",
    "\n",
    "tile_resolution = 5\n",
    "tile_size = 256\n",
    "tile_pad = 32\n",
    "resolution=tile_resolution  # Lx:15 S2:10\n",
    "\n",
    "processing_level = None\n",
    "source = 's2'\n",
    "image_suffix = 'E'\n",
    "\n",
    "s2_bands=['blue','green','red','nir','swir1','swir2','alpha']; s2_suffix='BGRNS1S2A'  # S2, Lx\n",
    "\n",
    "s1_bands=['vv','vh']; s1_suffix='VVVH'  \n",
    "\n",
    "resampling='bilinear'\n",
    "\n",
    "label_suffix = 'aue'\n",
    "label_lot = '0'\n",
    "\n",
    "# do we need this?\n",
    "# NYU AoUE land use/land cover categories\n",
    "category_label = {0:'Open Space',1:'Non-Residential',\\\n",
    "                   2:'Residential Atomistic',3:'Residential Informal Subdivision',\\\n",
    "                   4:'Residential Formal Subdivision',5:'Residential Housing Project',\\\n",
    "                   6:'Roads',7:'Study Area',8:'Labeled Study Area',254:'No Data',255:'No Label'}"
   ]
  },
  {
   "cell_type": "markdown",
   "metadata": {},
   "source": [
    "### Specify training data & training parameters"
   ]
  },
  {
   "cell_type": "code",
   "execution_count": 3,
   "metadata": {},
   "outputs": [],
   "source": [
    "window = 17\n",
    "\n",
    "cats_map = {}\n",
    "cats_map[0] = 0\n",
    "cats_map[1] = 1\n",
    "cats_map[2] = 4\n",
    "cats_map[3] = 4\n",
    "cats_map[4] = 4\n",
    "cats_map[5] = 4\n",
    "cats_map[6] = 6\n",
    "\n",
    "bands_vir=s2_bands[:-1]\n",
    "bands_sar=None\n",
    "bands_ndvi=None\n",
    "bands_ndbi=None\n",
    "bands_osm=None\n",
    "\n",
    "haze_removal = False\n",
    "\n",
    "\n",
    "epochs = 500\n",
    "#batch_size = 128\n",
    "balancing = None"
   ]
  },
  {
   "cell_type": "code",
   "execution_count": 4,
   "metadata": {},
   "outputs": [
    {
     "name": "stdout",
     "output_type": "stream",
     "text": [
      "vir 6\n"
     ]
    }
   ],
   "source": [
    "stack_label, feature_count = util_workflow.build_stack_label(\n",
    "        bands_vir=bands_vir,\n",
    "        bands_sar=bands_sar,\n",
    "        bands_ndvi=bands_ndvi,\n",
    "        bands_ndbi=bands_ndbi,\n",
    "        bands_osm=bands_osm,)\n",
    "print stack_label, feature_count"
   ]
  },
  {
   "cell_type": "code",
   "execution_count": 5,
   "metadata": {},
   "outputs": [],
   "source": [
    "#alternative workflow"
   ]
  },
  {
   "cell_type": "code",
   "execution_count": 6,
   "metadata": {},
   "outputs": [],
   "source": [
    "# skip training data superset\n",
    "# for just this moment, skip the scaling/normalization\n",
    "# still need to remap lulc target data! (first, to consolidated cats; second, to 0,1,2,3..)\n",
    "# for 3category, remove roads -> done at catalog level\n",
    "# change target data to onehot (presumably)\n",
    "# generate weighting information -> from already filtered catalog/dataframe\n",
    "# create callbacks\n",
    "# build model\n",
    "# compile model\n",
    "# train with fit_generator\n",
    "# evaluate performance -> apply to validation dataset!\n",
    "# score & record"
   ]
  },
  {
   "cell_type": "markdown",
   "metadata": {},
   "source": [
    "### Specify data of interest\n",
    "Load and manipulate the catalog to specify which samples are of interest for this training."
   ]
  },
  {
   "cell_type": "code",
   "execution_count": 7,
   "metadata": {},
   "outputs": [
    {
     "name": "stdout",
     "output_type": "stream",
     "text": [
      "172551 172551\n"
     ]
    }
   ],
   "source": [
    "df = util_chips.load_catalog()\n",
    "df = df[df['city']=='sitapur']\n",
    "df = df[df['image']=='E']\n",
    "print len(df), len(df.index)"
   ]
  },
  {
   "cell_type": "code",
   "execution_count": 8,
   "metadata": {},
   "outputs": [
    {
     "name": "stdout",
     "output_type": "stream",
     "text": [
      "154829\n",
      "{0: 70737, 1: 25599, 2: 15633, 3: 40545, 4: 1869, 5: 446}\n"
     ]
    }
   ],
   "source": [
    "#here for example we will just exclude all roads samples\n",
    "df = df[df['lulc']!=6]\n",
    "print len(df)\n",
    "count_series = df['lulc'].value_counts()\n",
    "counts_dict = count_series.to_dict()\n",
    "print counts_dict"
   ]
  },
  {
   "cell_type": "markdown",
   "metadata": {},
   "source": [
    "#### Split data (ie catalogs) into training and validation tranches"
   ]
  },
  {
   "cell_type": "code",
   "execution_count": 12,
   "metadata": {},
   "outputs": [
    {
     "name": "stdout",
     "output_type": "stream",
     "text": [
      "108794 46035\n"
     ]
    }
   ],
   "source": [
    "df_t,df_v = util_chips.split_catalog_by_locale(df)\n",
    "print len(df_t), len(df_v)\n",
    "assert len(df_t)+len(df_v)==len(df)"
   ]
  },
  {
   "cell_type": "markdown",
   "metadata": {},
   "source": [
    "## Training"
   ]
  },
  {
   "cell_type": "markdown",
   "metadata": {},
   "source": [
    "### Build loss function"
   ]
  },
  {
   "cell_type": "markdown",
   "metadata": {},
   "source": [
    "#### Inspect dataframes for consistency"
   ]
  },
  {
   "cell_type": "code",
   "execution_count": 13,
   "metadata": {},
   "outputs": [
    {
     "name": "stdout",
     "output_type": "stream",
     "text": [
      "{0: 47391, 1: 19125, 2: 11066, 3: 30600, 4: 166, 5: 446} 108794\n",
      "{0: 23346, 1: 6474, 2: 4567, 3: 9945, 4: 1703} 46035\n",
      "\n",
      "{0: 70737, 1: 25599, 2: 15633, 3: 40545, 4: 1869, 5: 446} 154829\n"
     ]
    }
   ],
   "source": [
    "print util_training.calc_category_counts(df_t,remapping=None), len(df_t)\n",
    "print util_training.calc_category_counts(df_v,remapping=None), len(df_v)\n",
    "print\n",
    "print util_training.calc_category_counts(df,remapping=None), len(df)"
   ]
  },
  {
   "cell_type": "markdown",
   "metadata": {},
   "source": [
    "#### Generate class weighting information"
   ]
  },
  {
   "cell_type": "code",
   "execution_count": 14,
   "metadata": {},
   "outputs": [],
   "source": [
    "category_weights =  util_training.generate_category_weights(df,remapping='standard',log=False,mu=1.0,max_score=None)"
   ]
  },
  {
   "cell_type": "code",
   "execution_count": 15,
   "metadata": {},
   "outputs": [
    {
     "name": "stdout",
     "output_type": "stream",
     "text": [
      "[(0, 1.0), (1, 2.76327200281261), (2, 1.2093241926384355)]\n",
      "[1.0, 2.76327200281261, 1.2093241926384355]\n"
     ]
    }
   ],
   "source": [
    "print category_weights.items()\n",
    "weights = list(zip(*category_weights.items())[1])\n",
    "print weights"
   ]
  },
  {
   "cell_type": "markdown",
   "metadata": {},
   "source": [
    "#### Use weights to make weighted categorical crossentropy loss function"
   ]
  },
  {
   "cell_type": "code",
   "execution_count": 16,
   "metadata": {},
   "outputs": [],
   "source": [
    "loss = util_training.make_loss_function_wcc(weights)"
   ]
  },
  {
   "cell_type": "markdown",
   "metadata": {},
   "source": [
    "### Build convolutional neural network"
   ]
  },
  {
   "cell_type": "markdown",
   "metadata": {},
   "source": [
    "#### Name and briefly describe model"
   ]
  },
  {
   "cell_type": "code",
   "execution_count": 17,
   "metadata": {},
   "outputs": [],
   "source": [
    "model_id = '3cat_Sit_gen-test'\n",
    "notes = 'new architecture: sitapur E only, 3cat 5m bilinear, no processing'"
   ]
  },
  {
   "cell_type": "code",
   "execution_count": 18,
   "metadata": {},
   "outputs": [
    {
     "name": "stdout",
     "output_type": "stream",
     "text": [
      "('DEFAULT:', 'channels_last')\n",
      "('UPDATED:', 'channels_first')\n"
     ]
    }
   ],
   "source": [
    "print(\"DEFAULT:\",K.image_data_format())\n",
    "K.set_image_data_format('channels_first')\n",
    "print(\"UPDATED:\",K.image_data_format())"
   ]
  },
  {
   "cell_type": "markdown",
   "metadata": {},
   "source": [
    "#### Create actual model"
   ]
  },
  {
   "cell_type": "code",
   "execution_count": 19,
   "metadata": {
    "scrolled": true
   },
   "outputs": [
    {
     "name": "stdout",
     "output_type": "stream",
     "text": [
      "__________________________________________________________________________________________________\n",
      "Layer (type)                    Output Shape         Param #     Connected to                     \n",
      "==================================================================================================\n",
      "input_1 (InputLayer)            (None, 6, 17, 17)    0                                            \n",
      "__________________________________________________________________________________________________\n",
      "conv2d_1 (Conv2D)               (None, 32, 17, 17)   4832        input_1[0][0]                    \n",
      "__________________________________________________________________________________________________\n",
      "conv2d_3 (Conv2D)               (None, 32, 17, 17)   1760        input_1[0][0]                    \n",
      "__________________________________________________________________________________________________\n",
      "activation_1 (Activation)       (None, 32, 17, 17)   0           conv2d_1[0][0]                   \n",
      "__________________________________________________________________________________________________\n",
      "activation_3 (Activation)       (None, 32, 17, 17)   0           conv2d_3[0][0]                   \n",
      "__________________________________________________________________________________________________\n",
      "conv2d_2 (Conv2D)               (None, 32, 17, 17)   25632       activation_1[0][0]               \n",
      "__________________________________________________________________________________________________\n",
      "conv2d_4 (Conv2D)               (None, 32, 17, 17)   9248        activation_3[0][0]               \n",
      "__________________________________________________________________________________________________\n",
      "activation_2 (Activation)       (None, 32, 17, 17)   0           conv2d_2[0][0]                   \n",
      "__________________________________________________________________________________________________\n",
      "activation_4 (Activation)       (None, 32, 17, 17)   0           conv2d_4[0][0]                   \n",
      "__________________________________________________________________________________________________\n",
      "conv2d_5 (Conv2D)               (None, 32, 17, 17)   224         input_1[0][0]                    \n",
      "__________________________________________________________________________________________________\n",
      "lambda_1 (Lambda)               (None, 32, 17, 17)   0           activation_2[0][0]               \n",
      "__________________________________________________________________________________________________\n",
      "lambda_2 (Lambda)               (None, 32, 17, 17)   0           activation_4[0][0]               \n",
      "__________________________________________________________________________________________________\n",
      "lambda_3 (Lambda)               (None, 32, 17, 17)   0           conv2d_5[0][0]                   \n",
      "__________________________________________________________________________________________________\n",
      "add_1 (Add)                     (None, 32, 17, 17)   0           lambda_1[0][0]                   \n",
      "                                                                 lambda_2[0][0]                   \n",
      "                                                                 lambda_3[0][0]                   \n",
      "__________________________________________________________________________________________________\n",
      "max_pooling2d_1 (MaxPooling2D)  (None, 32, 8, 8)     0           add_1[0][0]                      \n",
      "__________________________________________________________________________________________________\n",
      "dropout_1 (Dropout)             (None, 32, 8, 8)     0           max_pooling2d_1[0][0]            \n",
      "__________________________________________________________________________________________________\n",
      "conv2d_6 (Conv2D)               (None, 64, 8, 8)     51264       dropout_1[0][0]                  \n",
      "__________________________________________________________________________________________________\n",
      "conv2d_8 (Conv2D)               (None, 64, 8, 8)     18496       dropout_1[0][0]                  \n",
      "__________________________________________________________________________________________________\n",
      "activation_5 (Activation)       (None, 64, 8, 8)     0           conv2d_6[0][0]                   \n",
      "__________________________________________________________________________________________________\n",
      "activation_7 (Activation)       (None, 64, 8, 8)     0           conv2d_8[0][0]                   \n",
      "__________________________________________________________________________________________________\n",
      "conv2d_7 (Conv2D)               (None, 64, 8, 8)     102464      activation_5[0][0]               \n",
      "__________________________________________________________________________________________________\n",
      "conv2d_9 (Conv2D)               (None, 64, 8, 8)     36928       activation_7[0][0]               \n",
      "__________________________________________________________________________________________________\n",
      "activation_6 (Activation)       (None, 64, 8, 8)     0           conv2d_7[0][0]                   \n",
      "__________________________________________________________________________________________________\n",
      "activation_8 (Activation)       (None, 64, 8, 8)     0           conv2d_9[0][0]                   \n",
      "__________________________________________________________________________________________________\n",
      "conv2d_10 (Conv2D)              (None, 64, 8, 8)     2112        dropout_1[0][0]                  \n",
      "__________________________________________________________________________________________________\n",
      "lambda_4 (Lambda)               (None, 64, 8, 8)     0           activation_6[0][0]               \n",
      "__________________________________________________________________________________________________\n",
      "lambda_5 (Lambda)               (None, 64, 8, 8)     0           activation_8[0][0]               \n",
      "__________________________________________________________________________________________________\n",
      "lambda_6 (Lambda)               (None, 64, 8, 8)     0           conv2d_10[0][0]                  \n",
      "__________________________________________________________________________________________________\n",
      "add_2 (Add)                     (None, 64, 8, 8)     0           lambda_4[0][0]                   \n",
      "                                                                 lambda_5[0][0]                   \n",
      "                                                                 lambda_6[0][0]                   \n",
      "__________________________________________________________________________________________________\n",
      "max_pooling2d_2 (MaxPooling2D)  (None, 64, 4, 4)     0           add_2[0][0]                      \n",
      "__________________________________________________________________________________________________\n",
      "dropout_2 (Dropout)             (None, 64, 4, 4)     0           max_pooling2d_2[0][0]            \n",
      "__________________________________________________________________________________________________\n",
      "flatten_1 (Flatten)             (None, 1024)         0           dropout_2[0][0]                  \n",
      "__________________________________________________________________________________________________\n",
      "dense_1 (Dense)                 (None, 512)          524800      flatten_1[0][0]                  \n",
      "__________________________________________________________________________________________________\n",
      "activation_9 (Activation)       (None, 512)          0           dense_1[0][0]                    \n",
      "__________________________________________________________________________________________________\n",
      "dropout_3 (Dropout)             (None, 512)          0           activation_9[0][0]               \n",
      "__________________________________________________________________________________________________\n",
      "dense_2 (Dense)                 (None, 3)            1539        dropout_3[0][0]                  \n",
      "__________________________________________________________________________________________________\n",
      "activation_10 (Activation)      (None, 3)            0           dense_2[0][0]                    \n",
      "==================================================================================================\n",
      "Total params: 779,299\n",
      "Trainable params: 779,299\n",
      "Non-trainable params: 0\n",
      "__________________________________________________________________________________________________\n"
     ]
    }
   ],
   "source": [
    "#hardcoded params\n",
    "network=util_network.build_model(util_network.doubleres_block,input_shape=(6,17,17),output_nodes=3)\n",
    "util_network.compile_network(network, loss, LR=0.001)"
   ]
  },
  {
   "cell_type": "markdown",
   "metadata": {},
   "source": [
    "---"
   ]
  },
  {
   "cell_type": "markdown",
   "metadata": {},
   "source": [
    "### Train model fast"
   ]
  },
  {
   "cell_type": "markdown",
   "metadata": {},
   "source": [
    "#### Create generators to provide training samples"
   ]
  },
  {
   "cell_type": "code",
   "execution_count": 20,
   "metadata": {},
   "outputs": [],
   "source": [
    "generator_t = BatchGenerator(df_t,remapping='3cat')\n",
    "generator_v = BatchGenerator(df_v,remapping='3cat')"
   ]
  },
  {
   "cell_type": "markdown",
   "metadata": {},
   "source": [
    "#### Create callback functions for training"
   ]
  },
  {
   "cell_type": "code",
   "execution_count": 21,
   "metadata": {},
   "outputs": [],
   "source": [
    "weights_label='weights_fast'\n",
    "callbacks, weights_path = util_training.create_callbacks(data_root, model_id, weights_label=weights_label, patience=1)"
   ]
  },
  {
   "cell_type": "markdown",
   "metadata": {},
   "source": [
    "#### Conduct training using `fit_generator` and visualize progress"
   ]
  },
  {
   "cell_type": "code",
   "execution_count": 22,
   "metadata": {
    "scrolled": false
   },
   "outputs": [
    {
     "name": "stdout",
     "output_type": "stream",
     "text": [
      "Epoch 1/500\n",
      "850/850 [==============================] - 136s 159ms/step - loss: 0.9725 - acc: 0.7174 - val_loss: 1.1927 - val_acc: 0.7329\n",
      "Epoch 2/500\n",
      "850/850 [==============================] - 133s 156ms/step - loss: 0.6835 - acc: 0.8098 - val_loss: 1.4032 - val_acc: 0.7417\n"
     ]
    },
    {
     "data": {
      "image/png": "[encoded data removed]",
      "text/plain": [
       "<Figure size 432x288 with 1 Axes>"
      ]
     },
     "metadata": {},
     "output_type": "display_data"
    },
    {
     "data": {
      "image/png": "[encoded data removed]",
      "text/plain": [
       "<Figure size 432x288 with 1 Axes>"
      ]
     },
     "metadata": {},
     "output_type": "display_data"
    }
   ],
   "source": [
    "# train fast\n",
    "#history_fast = network.fit(X_train, Y_t_cat, batch_size=batch_size, epochs=epochs, validation_data=(X_valid, Y_v_cat), shuffle=True,callbacks=callbacks)\n",
    "#docs: fit_generator(generator, steps_per_epoch=None, epochs=1, verbose=1, callbacks=None, validation_data=None, validation_steps=None,\n",
    "                    #class_weight=None, max_queue_size=10, workers=1, use_multiprocessing=False, shuffle=True, initial_epoch=0)\n",
    "history_fast = network.fit_generator(generator_t, epochs=epochs, callbacks=callbacks, steps_per_epoch=generator_t.steps,\n",
    "                                    validation_data=generator_v, validation_steps=generator_v.steps,\n",
    "                                    shuffle=True,use_multiprocessing=True,max_queue_size=40,workers=64,)\n",
    "\n",
    "plt.plot(history_fast.history['val_acc'])\n",
    "plt.show()\n",
    "plt.plot(history_fast.history['val_loss'])\n",
    "plt.show()"
   ]
  },
  {
   "cell_type": "markdown",
   "metadata": {},
   "source": [
    "---"
   ]
  },
  {
   "cell_type": "markdown",
   "metadata": {},
   "source": [
    "### Rebuild model and train slow"
   ]
  },
  {
   "cell_type": "code",
   "execution_count": 27,
   "metadata": {
    "scrolled": true
   },
   "outputs": [
    {
     "name": "stdout",
     "output_type": "stream",
     "text": [
      "__________________________________________________________________________________________________\n",
      "Layer (type)                    Output Shape         Param #     Connected to                     \n",
      "==================================================================================================\n",
      "input_3 (InputLayer)            (None, 6, 17, 17)    0                                            \n",
      "__________________________________________________________________________________________________\n",
      "conv2d_21 (Conv2D)              (None, 32, 17, 17)   4832        input_3[0][0]                    \n",
      "__________________________________________________________________________________________________\n",
      "conv2d_23 (Conv2D)              (None, 32, 17, 17)   1760        input_3[0][0]                    \n",
      "__________________________________________________________________________________________________\n",
      "activation_21 (Activation)      (None, 32, 17, 17)   0           conv2d_21[0][0]                  \n",
      "__________________________________________________________________________________________________\n",
      "activation_23 (Activation)      (None, 32, 17, 17)   0           conv2d_23[0][0]                  \n",
      "__________________________________________________________________________________________________\n",
      "conv2d_22 (Conv2D)              (None, 32, 17, 17)   25632       activation_21[0][0]              \n",
      "__________________________________________________________________________________________________\n",
      "conv2d_24 (Conv2D)              (None, 32, 17, 17)   9248        activation_23[0][0]              \n",
      "__________________________________________________________________________________________________\n",
      "activation_22 (Activation)      (None, 32, 17, 17)   0           conv2d_22[0][0]                  \n",
      "__________________________________________________________________________________________________\n",
      "activation_24 (Activation)      (None, 32, 17, 17)   0           conv2d_24[0][0]                  \n",
      "__________________________________________________________________________________________________\n",
      "conv2d_25 (Conv2D)              (None, 32, 17, 17)   224         input_3[0][0]                    \n",
      "__________________________________________________________________________________________________\n",
      "lambda_13 (Lambda)              (None, 32, 17, 17)   0           activation_22[0][0]              \n",
      "__________________________________________________________________________________________________\n",
      "lambda_14 (Lambda)              (None, 32, 17, 17)   0           activation_24[0][0]              \n",
      "__________________________________________________________________________________________________\n",
      "lambda_15 (Lambda)              (None, 32, 17, 17)   0           conv2d_25[0][0]                  \n",
      "__________________________________________________________________________________________________\n",
      "add_5 (Add)                     (None, 32, 17, 17)   0           lambda_13[0][0]                  \n",
      "                                                                 lambda_14[0][0]                  \n",
      "                                                                 lambda_15[0][0]                  \n",
      "__________________________________________________________________________________________________\n",
      "max_pooling2d_5 (MaxPooling2D)  (None, 32, 8, 8)     0           add_5[0][0]                      \n",
      "__________________________________________________________________________________________________\n",
      "dropout_7 (Dropout)             (None, 32, 8, 8)     0           max_pooling2d_5[0][0]            \n",
      "__________________________________________________________________________________________________\n",
      "conv2d_26 (Conv2D)              (None, 64, 8, 8)     51264       dropout_7[0][0]                  \n",
      "__________________________________________________________________________________________________\n",
      "conv2d_28 (Conv2D)              (None, 64, 8, 8)     18496       dropout_7[0][0]                  \n",
      "__________________________________________________________________________________________________\n",
      "activation_25 (Activation)      (None, 64, 8, 8)     0           conv2d_26[0][0]                  \n",
      "__________________________________________________________________________________________________\n",
      "activation_27 (Activation)      (None, 64, 8, 8)     0           conv2d_28[0][0]                  \n",
      "__________________________________________________________________________________________________\n",
      "conv2d_27 (Conv2D)              (None, 64, 8, 8)     102464      activation_25[0][0]              \n",
      "__________________________________________________________________________________________________\n",
      "conv2d_29 (Conv2D)              (None, 64, 8, 8)     36928       activation_27[0][0]              \n",
      "__________________________________________________________________________________________________\n",
      "activation_26 (Activation)      (None, 64, 8, 8)     0           conv2d_27[0][0]                  \n",
      "__________________________________________________________________________________________________\n",
      "activation_28 (Activation)      (None, 64, 8, 8)     0           conv2d_29[0][0]                  \n",
      "__________________________________________________________________________________________________\n",
      "conv2d_30 (Conv2D)              (None, 64, 8, 8)     2112        dropout_7[0][0]                  \n",
      "__________________________________________________________________________________________________\n",
      "lambda_16 (Lambda)              (None, 64, 8, 8)     0           activation_26[0][0]              \n",
      "__________________________________________________________________________________________________\n",
      "lambda_17 (Lambda)              (None, 64, 8, 8)     0           activation_28[0][0]              \n",
      "__________________________________________________________________________________________________\n",
      "lambda_18 (Lambda)              (None, 64, 8, 8)     0           conv2d_30[0][0]                  \n",
      "__________________________________________________________________________________________________\n",
      "add_6 (Add)                     (None, 64, 8, 8)     0           lambda_16[0][0]                  \n",
      "                                                                 lambda_17[0][0]                  \n",
      "                                                                 lambda_18[0][0]                  \n",
      "__________________________________________________________________________________________________\n",
      "max_pooling2d_6 (MaxPooling2D)  (None, 64, 4, 4)     0           add_6[0][0]                      \n",
      "__________________________________________________________________________________________________\n",
      "dropout_8 (Dropout)             (None, 64, 4, 4)     0           max_pooling2d_6[0][0]            \n",
      "__________________________________________________________________________________________________\n",
      "flatten_3 (Flatten)             (None, 1024)         0           dropout_8[0][0]                  \n",
      "__________________________________________________________________________________________________\n",
      "dense_5 (Dense)                 (None, 512)          524800      flatten_3[0][0]                  \n",
      "__________________________________________________________________________________________________\n",
      "activation_29 (Activation)      (None, 512)          0           dense_5[0][0]                    \n",
      "__________________________________________________________________________________________________\n",
      "dropout_9 (Dropout)             (None, 512)          0           activation_29[0][0]              \n",
      "__________________________________________________________________________________________________\n",
      "dense_6 (Dense)                 (None, 3)            1539        dropout_9[0][0]                  \n",
      "__________________________________________________________________________________________________\n",
      "activation_30 (Activation)      (None, 3)            0           dense_6[0][0]                    \n",
      "==================================================================================================\n",
      "Total params: 779,299\n",
      "Trainable params: 779,299\n",
      "Non-trainable params: 0\n",
      "__________________________________________________________________________________________________\n"
     ]
    }
   ],
   "source": [
    "#hardcoded params\n",
    "network=util_network.build_model(util_network.doubleres_block,input_shape=(6,17,17),output_nodes=3)\n",
    "# load weights from fast learning\n",
    "network.load_weights(weights_path)\n",
    "\n",
    "util_network.compile_network(network, loss, LR=0.0001)"
   ]
  },
  {
   "cell_type": "markdown",
   "metadata": {},
   "source": [
    "#### Create generators to provide training samples"
   ]
  },
  {
   "cell_type": "code",
   "execution_count": 28,
   "metadata": {},
   "outputs": [],
   "source": [
    "generator_t.reset()\n",
    "generator_v.reset()"
   ]
  },
  {
   "cell_type": "markdown",
   "metadata": {},
   "source": [
    "#### Create callback functions for training"
   ]
  },
  {
   "cell_type": "code",
   "execution_count": 29,
   "metadata": {},
   "outputs": [],
   "source": [
    "weights_label='weights_slow'\n",
    "callbacks, weights_path = util_training.create_callbacks(data_root, model_id, weights_label=weights_label, patience=4)"
   ]
  },
  {
   "cell_type": "markdown",
   "metadata": {},
   "source": [
    "#### Conduct training using `fit_generator` and visualize progress"
   ]
  },
  {
   "cell_type": "code",
   "execution_count": 30,
   "metadata": {
    "scrolled": false
   },
   "outputs": [
    {
     "name": "stdout",
     "output_type": "stream",
     "text": [
      "Epoch 1/500\n",
      "850/850 [==============================] - 114s 134ms/step - loss: 0.7026 - acc: 0.8047 - val_loss: 1.0951 - val_acc: 0.7394\n",
      "Epoch 2/500\n",
      "850/850 [==============================] - 110s 129ms/step - loss: 0.6471 - acc: 0.8194 - val_loss: 1.0912 - val_acc: 0.7221\n",
      "Epoch 3/500\n",
      "850/850 [==============================] - 110s 129ms/step - loss: 0.6015 - acc: 0.8318 - val_loss: 1.1497 - val_acc: 0.7306\n",
      "Epoch 4/500\n",
      "850/850 [==============================] - 110s 130ms/step - loss: 0.5634 - acc: 0.8438 - val_loss: 1.1945 - val_acc: 0.7264\n",
      "Epoch 5/500\n",
      "850/850 [==============================] - 113s 133ms/step - loss: 0.5293 - acc: 0.8537 - val_loss: 1.2604 - val_acc: 0.7367\n",
      "Epoch 6/500\n",
      "850/850 [==============================] - 111s 131ms/step - loss: 0.4995 - acc: 0.8613 - val_loss: 1.4672 - val_acc: 0.7358\n"
     ]
    },
    {
     "data": {
      "image/png": "[encoded data removed]",
      "text/plain": [
       "<Figure size 432x288 with 1 Axes>"
      ]
     },
     "metadata": {},
     "output_type": "display_data"
    },
    {
     "data": {
      "image/png": "[encoded data removed]",
      "text/plain": [
       "<Figure size 432x288 with 1 Axes>"
      ]
     },
     "metadata": {},
     "output_type": "display_data"
    }
   ],
   "source": [
    "history_slow = network.fit_generator(generator_t, epochs=epochs, callbacks=callbacks, steps_per_epoch=generator_t.steps,\n",
    "                                    validation_data=generator_v, validation_steps=generator_v.steps,\n",
    "                                    shuffle=True,use_multiprocessing=True,max_queue_size=40,workers=64,)\n",
    "\n",
    "plt.plot(history_slow.history['val_acc'])\n",
    "plt.show()\n",
    "plt.plot(history_slow.history['val_loss'])\n",
    "plt.show()"
   ]
  },
  {
   "cell_type": "markdown",
   "metadata": {},
   "source": [
    "---"
   ]
  },
  {
   "cell_type": "markdown",
   "metadata": {},
   "source": [
    "## Scoring"
   ]
  },
  {
   "cell_type": "code",
   "execution_count": 31,
   "metadata": {},
   "outputs": [],
   "source": [
    "# reset validation generator\n",
    "# preallocate empty Y and Yhat storage vectors based on total size of validation dataset\n",
    "# batch by batch:\n",
    "# -> two ways to go: store complete Y and Yhat, or store and add/append confusion matrices\n",
    "# size shouldnt really be a constraint for two 1D integer arrays of arbitrary length\n",
    "# apply model to batch X vector\n",
    "# store model output Y_hat\n",
    "# store true output Y (after from_categorical - basically same process as Yhat_prob -> Yhat)\n",
    "# compare and score resulting vectors like normal\n",
    "\n",
    "# note:\n",
    "# or i'm an idiot and this already exists within keras, obviously"
   ]
  },
  {
   "cell_type": "markdown",
   "metadata": {},
   "source": [
    "### Apply model to training and validation data"
   ]
  },
  {
   "cell_type": "code",
   "execution_count": 37,
   "metadata": {},
   "outputs": [
    {
     "name": "stdout",
     "output_type": "stream",
     "text": [
      "850/850 [==============================] - 72s 85ms/step\n",
      "(108794, 3)\n",
      "360/360 [==============================] - 22s 62ms/step\n",
      "(46035, 3)\n"
     ]
    }
   ],
   "source": [
    "generator_t.reset()\n",
    "#predict_generator(generator, steps=None, max_queue_size=10, workers=1, use_multiprocessing=False, verbose=0)\n",
    "predictions_t = network.predict_generator(generator_t, steps=generator_t.steps, verbose=1,\n",
    "                  use_multiprocessing=True, max_queue_size=40, workers=64,)\n",
    "print predictions_t.shape\n",
    "\n",
    "generator_v.reset()\n",
    "#predict_generator(generator, steps=None, max_queue_size=10, workers=1, use_multiprocessing=False, verbose=0)\n",
    "predictions_v = network.predict_generator(generator_v, steps=generator_v.steps, verbose=1,\n",
    "                  use_multiprocessing=True, max_queue_size=40, workers=64,)\n",
    "print predictions_v.shape"
   ]
  },
  {
   "cell_type": "code",
   "execution_count": 38,
   "metadata": {},
   "outputs": [
    {
     "name": "stdout",
     "output_type": "stream",
     "text": [
      "(108794,)\n",
      "(46035,)\n"
     ]
    }
   ],
   "source": [
    "Yhat_t = predictions_t.argmax(axis=-1)\n",
    "print Yhat_t.shape\n",
    "Yhat_v = predictions_v.argmax(axis=-1)\n",
    "print Yhat_v.shape"
   ]
  },
  {
   "cell_type": "markdown",
   "metadata": {},
   "source": [
    "### Extract corresponding _actual_ ground-truth values directly from catalog"
   ]
  },
  {
   "cell_type": "code",
   "execution_count": 39,
   "metadata": {},
   "outputs": [
    {
     "name": "stdout",
     "output_type": "stream",
     "text": [
      "(108794,)\n",
      "(46035,)\n"
     ]
    }
   ],
   "source": [
    "Y_t = generator_t.get_label_series().values\n",
    "print Y_t.shape\n",
    "Y_v = generator_v.get_label_series().values\n",
    "print Y_v.shape"
   ]
  },
  {
   "cell_type": "markdown",
   "metadata": {},
   "source": [
    "### Generate typical scoring information"
   ]
  },
  {
   "cell_type": "code",
   "execution_count": 40,
   "metadata": {},
   "outputs": [
    {
     "name": "stdout",
     "output_type": "stream",
     "text": [
      "evaluate training\n",
      "0 47391\n",
      "1 19125\n",
      "2 42278\n",
      "[[42276  2354  2761]\n",
      " [ 1422 15880  1823]\n",
      " [ 2375  1407 38496]]\n",
      "108794 96652 0.8883945805834881\n"
     ]
    }
   ],
   "source": [
    "print \"evaluate training\"\n",
    "# hardcoded categories\n",
    "categories=[0,1,2]\n",
    "train_confusion = util_scoring.calc_confusion(Yhat_t,Y_t,categories)\n",
    "train_recalls, train_precisions, train_accuracy = util_scoring.calc_confusion_details(train_confusion)\n",
    "\n",
    "# Calculate f-score\n",
    "beta = 2\n",
    "train_f_score = (beta**2 + 1) * train_precisions * train_recalls / ( (beta**2 * train_precisions) + train_recalls )\n",
    "train_f_score_open = train_f_score[0] \n",
    "train_f_score_nonres = train_f_score[1]  \n",
    "train_f_score_res = train_f_score[2]  \n",
    "train_f_score_roads = None#train_f_score[3]  \n",
    "train_f_score_average = np.mean(train_f_score)"
   ]
  },
  {
   "cell_type": "code",
   "execution_count": 42,
   "metadata": {},
   "outputs": [
    {
     "name": "stdout",
     "output_type": "stream",
     "text": [
      "evaluate validation\n",
      "0 23346\n",
      "1 6474\n",
      "2 16215\n",
      "[[18804  2533  2009]\n",
      " [ 2725  2525  1224]\n",
      " [ 2003  1668 12544]]\n",
      "46035 33873 0.7358097100032583\n"
     ]
    }
   ],
   "source": [
    "print \"evaluate validation\"\n",
    "valid_confusion = util_scoring.calc_confusion(Yhat_v,Y_v,categories)\n",
    "valid_recalls, valid_precisions, valid_accuracy = util_scoring.calc_confusion_details(valid_confusion)\n",
    "\n",
    "# Calculate f-score\n",
    "valid_f_score = (beta**2 + 1) * valid_precisions * valid_recalls / ( (beta**2 * valid_precisions) + valid_recalls )\n",
    "valid_f_score_open = valid_f_score[0] \n",
    "valid_f_score_nonres = valid_f_score[1] \n",
    "valid_f_score_res = valid_f_score[2] \n",
    "valid_f_score_roads = None# valid_f_score[3] \n",
    "valid_f_score_average = np.mean(valid_f_score)"
   ]
  },
  {
   "cell_type": "code",
   "execution_count": 43,
   "metadata": {},
   "outputs": [],
   "source": [
    "# expanding lists to match expected model_record stuff\n",
    "train_recalls_expanded = [train_recalls[0],train_recalls[1],train_recalls[2],None]\n",
    "valid_recalls_expanded = [valid_recalls[0],valid_recalls[1],valid_recalls[2],None]\n",
    "train_precisions_expanded = [train_precisions[0],train_precisions[1],train_precisions[2],None]\n",
    "valid_precisions_expanded = [valid_precisions[0],valid_precisions[1],valid_precisions[2],None]"
   ]
  },
  {
   "cell_type": "markdown",
   "metadata": {},
   "source": [
    "### Record experiment configuration and results"
   ]
  },
  {
   "cell_type": "markdown",
   "metadata": {},
   "source": [
    "## Not finished: needs to be changed to reflect (potentially) different composition of training data pool"
   ]
  },
  {
   "cell_type": "code",
   "execution_count": null,
   "metadata": {},
   "outputs": [],
   "source": [
    "#scaler_filename = data_root+'models/'+model_id+'_scaler.pkl'\n",
    "#model_filename  = data_root+'models/'+model_id+'_SVM.pkl'\n",
    "network_filename = data_root+'models/'+model_id+'.hd5'\n",
    "\n",
    "#if os.path.exists(scaler_filename):\n",
    "#    print 'Aborting all pickle operations: file already exists at specified path ('+scaler_filename+')'\n",
    "#elif os.path.exists(model_filename):\n",
    "#    print 'Aborting all pickle operations: file already exists at specified path ('+model_filename+')'\n",
    "if os.path.exists(network_filename):\n",
    "    print 'Aborting all pickle operations: file already exists at specified path ('+network_filename+')'\n",
    "else:\n",
    "    #print scaler_filename\n",
    "#    print model_filename\n",
    "    print network_filename\n",
    "    #pickle.dump(scaler, open(scaler_filename, 'wb'))\n",
    "#    pickle.dump(model, open(model_filename, 'wb'))\n",
    "    network.save(network_filename)\n",
    "    # tracking only occurs if all saves are successful\n",
    "    util_workflow.record_model_creation(\n",
    "        model_id, notes, place_images, label_suffix, resolution, stack_label, feature_count, window, cats_map, balancing, \n",
    "        network.get_config(), epochs, batch_size,\n",
    "        train_confusion, train_recalls_expanded, train_precisions_expanded, train_accuracy,\n",
    "        train_f_score_open, train_f_score_nonres, train_f_score_res, train_f_score_roads, train_f_score_average,\n",
    "        valid_confusion, valid_recalls_expanded, valid_precisions_expanded, valid_accuracy,\n",
    "        valid_f_score_open, valid_f_score_nonres, valid_f_score_res, valid_f_score_roads, valid_f_score_average,)"
   ]
  },
  {
   "cell_type": "markdown",
   "metadata": {},
   "source": [
    "---"
   ]
  }
 ],
 "metadata": {
  "kernelspec": {
   "display_name": "Python 2",
   "language": "python",
   "name": "python2"
  },
  "language_info": {
   "codemirror_mode": {
    "name": "ipython",
    "version": 2
   },
   "file_extension": ".py",
   "mimetype": "text/x-python",
   "name": "python",
   "nbconvert_exporter": "python",
   "pygments_lexer": "ipython2",
   "version": "2.7.13"
  }
 },
 "nbformat": 4,
 "nbformat_minor": 2
}
