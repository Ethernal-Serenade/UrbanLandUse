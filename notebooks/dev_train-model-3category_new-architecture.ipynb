{
 "cells": [
  {
   "cell_type": "markdown",
   "metadata": {},
   "source": [
    "# Development: Train 3-Category Classifier\n",
    "Use the latest and greatest model structures, parameters, workflow (ie class weighting, learning fast & slow, etc) to train a 3-category classifier using only the non-road training samples.\n",
    "\n",
    "This is the latest version as of the start of Phase IV, meant to leverage the previous changes in order to utilize the `fit_generator`.\n",
    "\n",
    "Date: 2019-02-01  \n",
    "Author: Peter Kerins  "
   ]
  },
  {
   "cell_type": "markdown",
   "metadata": {},
   "source": [
    "## Preparation"
   ]
  },
  {
   "cell_type": "markdown",
   "metadata": {},
   "source": [
    "### Import statements\n",
    "(may be over-inclusive)"
   ]
  },
  {
   "cell_type": "code",
   "execution_count": 41,
   "metadata": {},
   "outputs": [
    {
     "name": "stdout",
     "output_type": "stream",
     "text": [
      "['/home/Taufiq.Rashid/anaconda3/envs/geoml/lib/python36.zip', '/home/Taufiq.Rashid/anaconda3/envs/geoml/lib/python3.6', '/home/Taufiq.Rashid/anaconda3/envs/geoml/lib/python3.6/lib-dynload', '', '/home/Taufiq.Rashid/anaconda3/envs/geoml/lib/python3.6/site-packages', '/home/Taufiq.Rashid/anaconda3/envs/geoml/lib/python3.6/site-packages/IPython/extensions', '/home/Taufiq.Rashid/.ipython', '/home/Taufiq.Rashid/UrbanLandUse/utils', '/home/Taufiq.Rashid/UrbanLandUse', '/home/Taufiq.Rashid/UrbanLandUse/utils', '/home/Taufiq.Rashid/UrbanLandUse']\n"
     ]
    }
   ],
   "source": [
    "# typical, comprehensive imports\n",
    "import warnings\n",
    "warnings.filterwarnings('ignore')\n",
    "#\n",
    "import os\n",
    "import sys\n",
    "import json\n",
    "import itertools\n",
    "import pickle\n",
    "from pprint import pprint\n",
    "#\n",
    "import numpy as np\n",
    "import geojson\n",
    "import fiona\n",
    "import gdal\n",
    "import h5py\n",
    "get_ipython().magic(u'matplotlib inline')\n",
    "import matplotlib.pyplot as plt\n",
    "\n",
    "import pandas as pd\n",
    "\n",
    "import sklearn\n",
    "from sklearn.preprocessing import StandardScaler \n",
    "import ogr, gdal\n",
    "from tensorflow.keras.models import load_model\n",
    "import math\n",
    "from tensorflow.keras import models\n",
    "from tensorflow.keras import layers\n",
    "from tensorflow.keras.layers import Dropout\n",
    "from tensorflow.keras.utils import to_categorical\n",
    "\n",
    "import tensorflow as tf\n",
    "\n",
    "import tensorflow.keras as keras\n",
    "import tensorflow.keras.backend as K\n",
    "from tensorflow.keras.models import Model\n",
    "from tensorflow.keras.layers import Dense, Dropout, Activation, Flatten\n",
    "from tensorflow.keras.layers import Conv2D, MaxPooling2D\n",
    "from tensorflow.keras.layers import Input, Add, Lambda\n",
    "from tensorflow.keras.callbacks import EarlyStopping, ModelCheckpoint, History\n",
    "\n",
    "import collections\n",
    "from pprint import pprint\n",
    "\n",
    "import descarteslabs as dl\n",
    "# print dl.places.find('illinois') ## TEST\n",
    "\n",
    "ULU_REPO = os.environ[\"ULU_REPO\"]\n",
    "sys.path.append(ULU_REPO+'/utils')\n",
    "sys.path.append(ULU_REPO)\n",
    "print(sys.path)\n",
    "\n",
    "import util_descartes\n",
    "import util_ml\n",
    "import util_rasters\n",
    "import util_vectors\n",
    "import util_workflow\n",
    "import util_chips\n",
    "import util_training\n",
    "import util_network\n",
    "import util_scoring\n",
    "from catalog_generator import CatalogGenerator"
   ]
  },
  {
   "cell_type": "markdown",
   "metadata": {},
   "source": [
    "### Set key variables"
   ]
  },
  {
   "cell_type": "code",
   "execution_count": 42,
   "metadata": {},
   "outputs": [],
   "source": [
    "data_root='/data/phase_iv/'\n",
    "\n",
    "tile_resolution = 5\n",
    "tile_size = 256\n",
    "tile_pad = 32\n",
    "resolution=tile_resolution  # Lx:15 S2:10\n",
    "\n",
    "processing_level = None\n",
    "source = 's2'\n",
    "#image_suffix = 'E'\n",
    "\n",
    "s2_bands=['blue','green','red','nir','swir1','swir2','alpha']; s2_suffix='BGRNS1S2A'  # S2, Lx\n",
    "\n",
    "s1_bands=['vv','vh']; s1_suffix='VVVH'  \n",
    "\n",
    "resampling='bilinear'\n",
    "processing = None\n",
    "\n",
    "label_suffix = 'aue'\n",
    "label_lot = '0'\n",
    "\n",
    "# can do much more sophisticated filtering than this, but fine for demonstration\n",
    "place_images = {}\n",
    "place_images['hindupur']=['U']#['U', 'V', 'W', 'X', 'Y', 'Z']\n",
    "# place_images['singrauli']=['O','P','Q','R','S','T','U']\n",
    "# place_images['vijayawada']=['H','I']\n",
    "# place_images['jaipur']=['T','U','W','X','Y','Z']\n",
    "# place_images['hyderabad']=['P','Q','R','S','T','U']\n",
    "# place_images['sitapur']=['Q','R','T','U','V']\n",
    "# place_images['kanpur']=['AH', 'AK', 'AL', 'AM', 'AN']\n",
    "# place_images['belgaum']=['P','Q','R','S','T']\n",
    "# place_images['parbhani']=['T','V','W','X','Y','Z']\n",
    "# place_images['pune']=['P', 'Q', 'T', 'U', 'S']\n",
    "# place_images['ahmedabad']= ['Z', 'V', 'W', 'X', 'Y', 'AA']\n",
    "# place_images['malegaon']=  ['V', 'W', 'X', 'Y', 'Z']\n",
    "# place_images['kolkata'] =  ['M','N','O','P','Q','R']\n",
    "# place_images['mumbai']=['P','Q','R','S','U','V']\n"
   ]
  },
  {
   "cell_type": "code",
   "execution_count": 3,
   "metadata": {},
   "outputs": [],
   "source": [
    "category_label = {0:'Open Space',1:'Non-Residential',\\\n",
    "                   2:'Residential Atomistic',3:'Residential Informal Subdivision',\\\n",
    "                   4:'Residential Formal Subdivision',5:'Residential Housing Project',\\\n",
    "                   6:'Roads',7:'Study Area',8:'Labeled Study Area',254:'No Data',255:'No Label'}\n",
    "\n",
    "cats_map = {}\n",
    "cats_map[0] = 0\n",
    "cats_map[1] = 1\n",
    "cats_map[2] = 2\n",
    "cats_map[3] = 2\n",
    "cats_map[4] = 2\n",
    "cats_map[5] = 3"
   ]
  },
  {
   "cell_type": "markdown",
   "metadata": {},
   "source": [
    "### Specify training data & training parameters"
   ]
  },
  {
   "cell_type": "code",
   "execution_count": 4,
   "metadata": {},
   "outputs": [],
   "source": [
    "window = 17\n",
    "\n",
    "# bands stuff outdated! needs to be reconciled with catalog filtering\n",
    "# will ignore for the moment since this is a bigger fix...\n",
    "# haven't done any examples yet incorporating additional chips beyond s2\n",
    "# into construction of a training sample\n",
    "bands_vir=s2_bands[:-1]\n",
    "bands_sar=None\n",
    "bands_ndvi=None\n",
    "bands_ndbi=None\n",
    "bands_osm=None\n",
    "\n",
    "# this can get updated when cloudmasking is added\n",
    "haze_removal = False\n",
    "\n",
    "epochs = 500 # this is fine, if irrelevant\n",
    "batch_size = 128\n",
    "balancing = None"
   ]
  },
  {
   "cell_type": "code",
   "execution_count": 5,
   "metadata": {},
   "outputs": [
    {
     "name": "stdout",
     "output_type": "stream",
     "text": [
      "vir 6\n"
     ]
    }
   ],
   "source": [
    "# needs to be updated completely; bands stuff doesn't make sense right now\n",
    "stack_label, feature_count = util_workflow.build_stack_label(\n",
    "        bands_vir=bands_vir,\n",
    "        bands_sar=bands_sar,\n",
    "        bands_ndvi=bands_ndvi,\n",
    "        bands_ndbi=bands_ndbi,\n",
    "        bands_osm=bands_osm,)\n",
    "print(stack_label, feature_count)"
   ]
  },
  {
   "cell_type": "markdown",
   "metadata": {},
   "source": [
    "### Specify data of interest\n",
    "Load and manipulate the catalog to specify which samples are of interest for this training."
   ]
  },
  {
   "cell_type": "markdown",
   "metadata": {},
   "source": [
    "### Create new dataset for training"
   ]
  },
  {
   "cell_type": "code",
   "execution_count": 6,
   "metadata": {
    "scrolled": true
   },
   "outputs": [
    {
     "name": "stdout",
     "output_type": "stream",
     "text": [
      "39281620\n"
     ]
    }
   ],
   "source": [
    "df = util_chips.load_catalog()\n",
    "print(len(df.index))"
   ]
  },
  {
   "cell_type": "code",
   "execution_count": 7,
   "metadata": {},
   "outputs": [
    {
     "name": "stdout",
     "output_type": "stream",
     "text": [
      "107891\n"
     ]
    }
   ],
   "source": [
    "mask = pd.Series(data=np.zeros(len(df.index),dtype='uint8'), index=range(len(df)), dtype='uint8')\n",
    "\n",
    "for place,image_list in place_images.items():\n",
    "    for image in image_list:\n",
    "        mask |= (df['city']==place) & (df['image']==image)\n",
    "\n",
    "# straight away remove road samples\n",
    "mask &= (df['lulc']!=6)\n",
    "\n",
    "# filter others according to specifications\n",
    "mask &= (df['gt_type']==label_suffix)\n",
    "mask &= (df['gt_lot']==int(label_lot))\n",
    "mask &= (df['source']==source)\n",
    "mask &= (df['resolution']==int(resolution))\n",
    "mask &= (df['resampling']==resampling)\n",
    "mask &= (df['processing']==str(processing).lower())\n",
    "\n",
    "print(np.sum(mask))"
   ]
  },
  {
   "cell_type": "code",
   "execution_count": 8,
   "metadata": {},
   "outputs": [
    {
     "data": {
      "text/plain": [
       "107891"
      ]
     },
     "execution_count": 8,
     "metadata": {},
     "output_type": "execute_result"
    }
   ],
   "source": [
    "#here for example we will just exclude all roads samples\n",
    "df = df[mask]\n",
    "df.reset_index(drop=True,inplace=True)\n",
    "len(df)\n"
   ]
  },
  {
   "cell_type": "code",
   "execution_count": 9,
   "metadata": {},
   "outputs": [],
   "source": [
    "place_locales_paths = [\n",
    "                       '/data/phase_iv/models/3cat_Hin_U-Z_place_locales.pkl'       ,\n",
    "                       ]\n",
    "# place_locales_paths = ['/data/phase_iv/models/3cat_Ahm_V-AA_place_locales.pkl',\n",
    "#                        '/data/phase_iv/models/3cat_Bel_P-T_place_locales.pkl'       ,\n",
    "#                        '/data/phase_iv/models/3cat_Hin_U-Z_place_locales.pkl'       ,\n",
    "#                        '/data/phase_iv/models/3cat_Hyd_P-U_place_locales.pkl'       ,\n",
    "#                        '/data/phase_iv/models/3cat_Jai_T-U+W-Z_place_locales.pkl'   ,\n",
    "#                        '/data/phase_iv/models/3cat_Kan_AH+AK-AN_place_locales.pkl'  ,\n",
    "#                        '/data/phase_iv/models/3cat_Mal_V-Z_place_locales.pkl'       ,\n",
    "#                        '/data/phase_iv/models/3cat_Par_T+V-Z_place_locales.pkl',\n",
    "#                        '/data/phase_iv/models/3cat_Pun_P-Q+S-U_place_locales.pkl',\n",
    "#                        '/data/phase_iv/models/3cat_Sin_O-U_place_locales.pkl',\n",
    "#                        '/data/phase_iv/models/3cat_Sit_Q-R+T-V_place_locales.pkl',\n",
    "#                        '/data/phase_iv/models/3cat_Vij_H-I_place_locales.pkl',\n",
    "#                        '/data/phase_iv/models/3cat_Kol_M-R_place_locales.pkl',\n",
    "#                        '/data/phase_iv/models/3cat_Mum_P-V_place_locales.pkl'\n",
    "#                        ]"
   ]
  },
  {
   "cell_type": "code",
   "execution_count": 10,
   "metadata": {
    "scrolled": true
   },
   "outputs": [
    {
     "name": "stdout",
     "output_type": "stream",
     "text": [
      "{}\n",
      "{'hindupur': (array([ 0, 29, 28, 18, 17, 16, 15, 27,  9, 13, 20, 12, 24, 25,  3,  1,  5,\n",
      "       11,  4, 26,  2]), array([ 6, 10,  7, 30,  8, 21, 22, 14, 19, 23]))}\n"
     ]
    }
   ],
   "source": [
    "combined_place_locales = {}\n",
    "print(combined_place_locales)\n",
    "for place_locales_filename in place_locales_paths:\n",
    "    with open(place_locales_filename, \"rb\") as f:\n",
    "        place_locales = pickle.load(f,encoding='latin1')\n",
    "    combined_place_locales.update(place_locales)\n",
    "print(combined_place_locales)"
   ]
  },
  {
   "cell_type": "code",
   "execution_count": 11,
   "metadata": {},
   "outputs": [
    {
     "name": "stdout",
     "output_type": "stream",
     "text": [
      "73026 34865\n"
     ]
    }
   ],
   "source": [
    "df_t, df_v = util_chips.mask_locales(df, combined_place_locales)\n",
    "print(len(df_t), len(df_v))"
   ]
  },
  {
   "cell_type": "code",
   "execution_count": null,
   "metadata": {},
   "outputs": [],
   "source": [
    "# save the datasets for future use\n",
    "%time df_t.to_csv(data_root+'models/'+'all_city_dataset-train.csv',index=False)\n",
    "%time df_v.to_csv(data_root+'models/'+'all_city_dataset-valid.csv',index=False)"
   ]
  },
  {
   "cell_type": "markdown",
   "metadata": {},
   "source": [
    "### Alternatively load previously saved dataset "
   ]
  },
  {
   "cell_type": "code",
   "execution_count": null,
   "metadata": {},
   "outputs": [],
   "source": [
    "# Set your input validation dataset file here\n",
    "training_data = data_root+'models/'+'all_city_dataset-train.csv'\n",
    "\n",
    "# Read the validation dataset to a Pandas Dataframe\n",
    "df_t = pd.read_csv(input_filename, encoding='utf8')\n",
    "\n",
    "# Set your input validation dataset file here\n",
    "validation_data = data_root+'models/'+'all_city_dataset-valid.csv'\n",
    "\n",
    "# Read the validation dataset to a Pandas Dataframe\n",
    "df_v = pd.read_csv(input_filename, encoding='utf8')\n",
    "\n",
    "print(len(df_t), len(df_v))"
   ]
  },
  {
   "cell_type": "markdown",
   "metadata": {},
   "source": [
    "## Training"
   ]
  },
  {
   "cell_type": "markdown",
   "metadata": {},
   "source": [
    "### Build loss function"
   ]
  },
  {
   "cell_type": "markdown",
   "metadata": {},
   "source": [
    "#### Inspect dataframes for consistency"
   ]
  },
  {
   "cell_type": "code",
   "execution_count": 12,
   "metadata": {},
   "outputs": [
    {
     "name": "stdout",
     "output_type": "stream",
     "text": [
      "{0: 35976, 3: 25601, 1: 6520, 2: 4929} 73026\n",
      "{0: 19104, 3: 8442, 1: 5395, 2: 1616, 5: 304, 4: 4} 34865\n",
      "\n",
      "{0: 55080, 3: 34043, 1: 11915, 2: 6545, 5: 304, 4: 4} 107891\n"
     ]
    }
   ],
   "source": [
    "print(util_training.calc_category_counts(df_t,remapping=None), len(df_t))\n",
    "print(util_training.calc_category_counts(df_v,remapping=None), len(df_v))\n",
    "print()\n",
    "print(util_training.calc_category_counts(df,remapping=None), len(df))"
   ]
  },
  {
   "cell_type": "markdown",
   "metadata": {},
   "source": [
    "#### Generate class weighting information"
   ]
  },
  {
   "cell_type": "code",
   "execution_count": 13,
   "metadata": {},
   "outputs": [],
   "source": [
    "df2=pd.concat([df_t,df_v])"
   ]
  },
  {
   "cell_type": "code",
   "execution_count": 14,
   "metadata": {},
   "outputs": [],
   "source": [
    "category_weights =  util_training.generate_category_weights(df2,remapping='standard',log=False,mu=1.0,max_score=None)"
   ]
  },
  {
   "cell_type": "code",
   "execution_count": 15,
   "metadata": {},
   "outputs": [
    {
     "data": {
      "text/plain": [
       "{0: 1.0, 1: 4.622744439781788, 2: 1.346830985915493}"
      ]
     },
     "execution_count": 15,
     "metadata": {},
     "output_type": "execute_result"
    }
   ],
   "source": [
    "category_weights"
   ]
  },
  {
   "cell_type": "code",
   "execution_count": 16,
   "metadata": {},
   "outputs": [
    {
     "name": "stdout",
     "output_type": "stream",
     "text": [
      "dict_items([(0, 1.0), (1, 4.622744439781788), (2, 1.346830985915493)])\n",
      "(1.0, 4.622744439781788, 1.346830985915493)\n"
     ]
    }
   ],
   "source": [
    "print(category_weights.items())\n",
    "weights = list(zip(*category_weights.items()))[1]\n",
    "print(weights)"
   ]
  },
  {
   "cell_type": "markdown",
   "metadata": {},
   "source": [
    "#### Use weights to make weighted categorical crossentropy loss function"
   ]
  },
  {
   "cell_type": "code",
   "execution_count": 17,
   "metadata": {},
   "outputs": [],
   "source": [
    "loss = util_training.make_loss_function_wcc(weights)"
   ]
  },
  {
   "cell_type": "markdown",
   "metadata": {},
   "source": [
    "### Build convolutional neural network"
   ]
  },
  {
   "cell_type": "markdown",
   "metadata": {},
   "source": [
    "#### Name and briefly describe model"
   ]
  },
  {
   "cell_type": "code",
   "execution_count": 18,
   "metadata": {},
   "outputs": [],
   "source": [
    "model_id = '3cat_hyd_test'\n",
    "notes = 'testing noteboook for py3'"
   ]
  },
  {
   "cell_type": "code",
   "execution_count": null,
   "metadata": {},
   "outputs": [],
   "source": [
    "# print(\"DEFAULT:\",K.image_data_format())\n",
    "# K.set_image_data_format('channels_first')\n",
    "# print(\"UPDATED:\",K.image_data_format())"
   ]
  },
  {
   "cell_type": "markdown",
   "metadata": {},
   "source": [
    "#### Create actual model"
   ]
  },
  {
   "cell_type": "code",
   "execution_count": 23,
   "metadata": {
    "scrolled": true
   },
   "outputs": [
    {
     "name": "stdout",
     "output_type": "stream",
     "text": [
      "__________________________________________________________________________________________________\n",
      "Layer (type)                    Output Shape         Param #     Connected to                     \n",
      "==================================================================================================\n",
      "input_2 (InputLayer)            (None, 17, 17, 6)    0                                            \n",
      "__________________________________________________________________________________________________\n",
      "conv2d_4 (Conv2D)               (None, 17, 17, 32)   1760        input_2[0][0]                    \n",
      "__________________________________________________________________________________________________\n",
      "activation_7 (Activation)       (None, 17, 17, 32)   0           conv2d_4[0][0]                   \n",
      "__________________________________________________________________________________________________\n",
      "conv2d_5 (Conv2D)               (None, 17, 17, 32)   9248        activation_7[0][0]               \n",
      "__________________________________________________________________________________________________\n",
      "activation_8 (Activation)       (None, 17, 17, 32)   0           conv2d_5[0][0]                   \n",
      "__________________________________________________________________________________________________\n",
      "separable_conv2d_4 (SeparableCo (None, 17, 17, 32)   1312        activation_8[0][0]               \n",
      "__________________________________________________________________________________________________\n",
      "batch_normalization_v1_7 (Batch (None, 17, 17, 32)   128         separable_conv2d_4[0][0]         \n",
      "__________________________________________________________________________________________________\n",
      "activation_9 (Activation)       (None, 17, 17, 32)   0           batch_normalization_v1_7[0][0]   \n",
      "__________________________________________________________________________________________________\n",
      "separable_conv2d_5 (SeparableCo (None, 17, 17, 32)   1312        activation_9[0][0]               \n",
      "__________________________________________________________________________________________________\n",
      "batch_normalization_v1_8 (Batch (None, 17, 17, 32)   128         separable_conv2d_5[0][0]         \n",
      "__________________________________________________________________________________________________\n",
      "conv2d_6 (Conv2D)               (None, 9, 9, 32)     1024        activation_8[0][0]               \n",
      "__________________________________________________________________________________________________\n",
      "max_pooling2d_2 (MaxPooling2D)  (None, 9, 9, 32)     0           batch_normalization_v1_8[0][0]   \n",
      "__________________________________________________________________________________________________\n",
      "batch_normalization_v1_6 (Batch (None, 9, 9, 32)     128         conv2d_6[0][0]                   \n",
      "__________________________________________________________________________________________________\n",
      "add_2 (Add)                     (None, 9, 9, 32)     0           max_pooling2d_2[0][0]            \n",
      "                                                                 batch_normalization_v1_6[0][0]   \n",
      "__________________________________________________________________________________________________\n",
      "activation_10 (Activation)      (None, 9, 9, 32)     0           add_2[0][0]                      \n",
      "__________________________________________________________________________________________________\n",
      "separable_conv2d_6 (SeparableCo (None, 9, 9, 64)     2336        activation_10[0][0]              \n",
      "__________________________________________________________________________________________________\n",
      "batch_normalization_v1_10 (Batc (None, 9, 9, 64)     256         separable_conv2d_6[0][0]         \n",
      "__________________________________________________________________________________________________\n",
      "activation_11 (Activation)      (None, 9, 9, 64)     0           batch_normalization_v1_10[0][0]  \n",
      "__________________________________________________________________________________________________\n",
      "separable_conv2d_7 (SeparableCo (None, 9, 9, 64)     4672        activation_11[0][0]              \n",
      "__________________________________________________________________________________________________\n",
      "batch_normalization_v1_11 (Batc (None, 9, 9, 64)     256         separable_conv2d_7[0][0]         \n",
      "__________________________________________________________________________________________________\n",
      "conv2d_7 (Conv2D)               (None, 5, 5, 64)     2048        add_2[0][0]                      \n",
      "__________________________________________________________________________________________________\n",
      "max_pooling2d_3 (MaxPooling2D)  (None, 5, 5, 64)     0           batch_normalization_v1_11[0][0]  \n",
      "__________________________________________________________________________________________________\n",
      "batch_normalization_v1_9 (Batch (None, 5, 5, 64)     256         conv2d_7[0][0]                   \n",
      "__________________________________________________________________________________________________\n",
      "add_3 (Add)                     (None, 5, 5, 64)     0           max_pooling2d_3[0][0]            \n",
      "                                                                 batch_normalization_v1_9[0][0]   \n",
      "__________________________________________________________________________________________________\n",
      "flatten_1 (Flatten)             (None, 1600)         0           add_3[0][0]                      \n",
      "__________________________________________________________________________________________________\n",
      "dense_2 (Dense)                 (None, 512)          819712      flatten_1[0][0]                  \n",
      "__________________________________________________________________________________________________\n",
      "activation_12 (Activation)      (None, 512)          0           dense_2[0][0]                    \n",
      "__________________________________________________________________________________________________\n",
      "dropout_1 (Dropout)             (None, 512)          0           activation_12[0][0]              \n",
      "__________________________________________________________________________________________________\n",
      "dense_3 (Dense)                 (None, 3)            1539        dropout_1[0][0]                  \n",
      "__________________________________________________________________________________________________\n",
      "activation_13 (Activation)      (None, 3)            0           dense_3[0][0]                    \n",
      "==================================================================================================\n",
      "Total params: 846,115\n",
      "Trainable params: 845,539\n",
      "Non-trainable params: 576\n",
      "__________________________________________________________________________________________________\n"
     ]
    }
   ],
   "source": [
    "#hardcoded params\n",
    "network=util_network.build_xmodel(input_shape=(17,17,6),output_nodes=3,input_conv_block=True)\n",
    "util_network.compile_network(network, loss, LR=0.001)"
   ]
  },
  {
   "cell_type": "markdown",
   "metadata": {},
   "source": [
    "---"
   ]
  },
  {
   "cell_type": "markdown",
   "metadata": {},
   "source": [
    "### Train model fast"
   ]
  },
  {
   "cell_type": "markdown",
   "metadata": {},
   "source": [
    "#### Create generators to provide training samples"
   ]
  },
  {
   "cell_type": "code",
   "execution_count": 24,
   "metadata": {},
   "outputs": [],
   "source": [
    "generator_t = CatalogGenerator(df_t,remapping='3cat',look_window=window,batch_size=batch_size,one_hot=3)\n",
    "generator_v = CatalogGenerator(df_v,remapping='3cat',look_window=window,batch_size=batch_size,one_hot=3)"
   ]
  },
  {
   "cell_type": "markdown",
   "metadata": {},
   "source": [
    "#### Create callback functions for training"
   ]
  },
  {
   "cell_type": "code",
   "execution_count": 25,
   "metadata": {},
   "outputs": [],
   "source": [
    "weights_label='weights_fast'\n",
    "callbacks, weights_path = util_training.create_callbacks(data_root, model_id, weights_label=weights_label, patience=2)"
   ]
  },
  {
   "cell_type": "markdown",
   "metadata": {},
   "source": [
    "#### Conduct training using `fit_generator` and visualize progress"
   ]
  },
  {
   "cell_type": "code",
   "execution_count": 26,
   "metadata": {
    "scrolled": true
   },
   "outputs": [
    {
     "name": "stdout",
     "output_type": "stream",
     "text": [
      "Epoch 1/500\n",
      "273/273 [==============================] - 43s 156ms/step - loss: 5.9329 - acc: 0.5518\n",
      "571/571 [==============================] - 112s 195ms/step - loss: 1.1040 - acc: 0.7243 - val_loss: 5.9329 - val_acc: 0.5518\n",
      "Epoch 2/500\n",
      "273/273 [==============================] - 24s 87ms/step - loss: 3.4204 - acc: 0.6763\n",
      "571/571 [==============================] - 44s 77ms/step - loss: 0.7769 - acc: 0.7884 - val_loss: 3.4204 - val_acc: 0.6763\n",
      "Epoch 3/500\n",
      "273/273 [==============================] - 19s 70ms/step - loss: 4.5343 - acc: 0.6618\n",
      "571/571 [==============================] - 59s 104ms/step - loss: 0.6285 - acc: 0.8238 - val_loss: 4.5343 - val_acc: 0.6618\n",
      "Epoch 4/500\n",
      "273/273 [==============================] - 20s 74ms/step - loss: 3.9528 - acc: 0.6607\n",
      "571/571 [==============================] - 32s 55ms/step - loss: 0.5246 - acc: 0.8514 - val_loss: 3.9528 - val_acc: 0.6607\n"
     ]
    },
    {
     "data": {
      "image/png": "[encoded data removed]",
      "text/plain": [
       "<Figure size 432x288 with 1 Axes>"
      ]
     },
     "metadata": {
      "needs_background": "light"
     },
     "output_type": "display_data"
    },
    {
     "data": {
      "image/png": "[encoded data removed]",
      "text/plain": [
       "<Figure size 432x288 with 1 Axes>"
      ]
     },
     "metadata": {
      "needs_background": "light"
     },
     "output_type": "display_data"
    }
   ],
   "source": [
    "# train fast\n",
    "#history_fast = network.fit(X_train, Y_t_cat, batch_size=batch_size, epochs=epochs, validation_data=(X_valid, Y_v_cat), shuffle=True,callbacks=callbacks)\n",
    "#docs: fit_generator(generator, steps_per_epoch=None, epochs=1, verbose=1, callbacks=None, validation_data=None, validation_steps=None,\n",
    "                    #class_weight=None, max_queue_size=10, workers=1, use_multiprocessing=False, shuffle=True, initial_epoch=0)\n",
    "history_fast = network.fit_generator(generator_t, epochs=epochs, callbacks=callbacks, steps_per_epoch=generator_t.steps,\n",
    "                                    validation_data=generator_v, validation_steps=generator_v.steps,\n",
    "                                    shuffle=True,use_multiprocessing=True,max_queue_size=40,workers=64,)\n",
    "\n",
    "plt.plot(history_fast.history['val_acc'])\n",
    "plt.show()\n",
    "plt.plot(history_fast.history['val_loss'])\n",
    "plt.show()"
   ]
  },
  {
   "cell_type": "markdown",
   "metadata": {},
   "source": [
    "---"
   ]
  },
  {
   "cell_type": "markdown",
   "metadata": {},
   "source": [
    "### Rebuild model and train slow"
   ]
  },
  {
   "cell_type": "code",
   "execution_count": 28,
   "metadata": {
    "scrolled": true
   },
   "outputs": [
    {
     "name": "stdout",
     "output_type": "stream",
     "text": [
      "__________________________________________________________________________________________________\n",
      "Layer (type)                    Output Shape         Param #     Connected to                     \n",
      "==================================================================================================\n",
      "input_4 (InputLayer)            (None, 17, 17, 6)    0                                            \n",
      "__________________________________________________________________________________________________\n",
      "conv2d_12 (Conv2D)              (None, 17, 17, 32)   1760        input_4[0][0]                    \n",
      "__________________________________________________________________________________________________\n",
      "activation_21 (Activation)      (None, 17, 17, 32)   0           conv2d_12[0][0]                  \n",
      "__________________________________________________________________________________________________\n",
      "conv2d_13 (Conv2D)              (None, 17, 17, 32)   9248        activation_21[0][0]              \n",
      "__________________________________________________________________________________________________\n",
      "activation_22 (Activation)      (None, 17, 17, 32)   0           conv2d_13[0][0]                  \n",
      "__________________________________________________________________________________________________\n",
      "separable_conv2d_12 (SeparableC (None, 17, 17, 32)   1312        activation_22[0][0]              \n",
      "__________________________________________________________________________________________________\n",
      "batch_normalization_v1_19 (Batc (None, 17, 17, 32)   128         separable_conv2d_12[0][0]        \n",
      "__________________________________________________________________________________________________\n",
      "activation_23 (Activation)      (None, 17, 17, 32)   0           batch_normalization_v1_19[0][0]  \n",
      "__________________________________________________________________________________________________\n",
      "separable_conv2d_13 (SeparableC (None, 17, 17, 32)   1312        activation_23[0][0]              \n",
      "__________________________________________________________________________________________________\n",
      "batch_normalization_v1_20 (Batc (None, 17, 17, 32)   128         separable_conv2d_13[0][0]        \n",
      "__________________________________________________________________________________________________\n",
      "conv2d_14 (Conv2D)              (None, 9, 9, 32)     1024        activation_22[0][0]              \n",
      "__________________________________________________________________________________________________\n",
      "max_pooling2d_6 (MaxPooling2D)  (None, 9, 9, 32)     0           batch_normalization_v1_20[0][0]  \n",
      "__________________________________________________________________________________________________\n",
      "batch_normalization_v1_18 (Batc (None, 9, 9, 32)     128         conv2d_14[0][0]                  \n",
      "__________________________________________________________________________________________________\n",
      "add_6 (Add)                     (None, 9, 9, 32)     0           max_pooling2d_6[0][0]            \n",
      "                                                                 batch_normalization_v1_18[0][0]  \n",
      "__________________________________________________________________________________________________\n",
      "activation_24 (Activation)      (None, 9, 9, 32)     0           add_6[0][0]                      \n",
      "__________________________________________________________________________________________________\n",
      "separable_conv2d_14 (SeparableC (None, 9, 9, 64)     2336        activation_24[0][0]              \n",
      "__________________________________________________________________________________________________\n",
      "batch_normalization_v1_22 (Batc (None, 9, 9, 64)     256         separable_conv2d_14[0][0]        \n",
      "__________________________________________________________________________________________________\n",
      "activation_25 (Activation)      (None, 9, 9, 64)     0           batch_normalization_v1_22[0][0]  \n",
      "__________________________________________________________________________________________________\n",
      "separable_conv2d_15 (SeparableC (None, 9, 9, 64)     4672        activation_25[0][0]              \n",
      "__________________________________________________________________________________________________\n",
      "batch_normalization_v1_23 (Batc (None, 9, 9, 64)     256         separable_conv2d_15[0][0]        \n",
      "__________________________________________________________________________________________________\n",
      "conv2d_15 (Conv2D)              (None, 5, 5, 64)     2048        add_6[0][0]                      \n",
      "__________________________________________________________________________________________________\n",
      "max_pooling2d_7 (MaxPooling2D)  (None, 5, 5, 64)     0           batch_normalization_v1_23[0][0]  \n",
      "__________________________________________________________________________________________________\n",
      "batch_normalization_v1_21 (Batc (None, 5, 5, 64)     256         conv2d_15[0][0]                  \n",
      "__________________________________________________________________________________________________\n",
      "add_7 (Add)                     (None, 5, 5, 64)     0           max_pooling2d_7[0][0]            \n",
      "                                                                 batch_normalization_v1_21[0][0]  \n",
      "__________________________________________________________________________________________________\n",
      "flatten_3 (Flatten)             (None, 1600)         0           add_7[0][0]                      \n",
      "__________________________________________________________________________________________________\n",
      "dense_6 (Dense)                 (None, 512)          819712      flatten_3[0][0]                  \n",
      "__________________________________________________________________________________________________\n",
      "activation_26 (Activation)      (None, 512)          0           dense_6[0][0]                    \n",
      "__________________________________________________________________________________________________\n",
      "dropout_3 (Dropout)             (None, 512)          0           activation_26[0][0]              \n",
      "__________________________________________________________________________________________________\n",
      "dense_7 (Dense)                 (None, 3)            1539        dropout_3[0][0]                  \n",
      "__________________________________________________________________________________________________\n",
      "activation_27 (Activation)      (None, 3)            0           dense_7[0][0]                    \n",
      "==================================================================================================\n",
      "Total params: 846,115\n",
      "Trainable params: 845,539\n",
      "Non-trainable params: 576\n",
      "__________________________________________________________________________________________________\n"
     ]
    }
   ],
   "source": [
    "#hardcoded params\n",
    "network=util_network.build_xmodel(input_shape=(17,17,6),output_nodes=3,input_conv_block=True)\n",
    "# load weights from fast learning\n",
    "network.load_weights(weights_path)\n",
    "\n",
    "util_network.compile_network(network, loss, LR=0.0001)"
   ]
  },
  {
   "cell_type": "markdown",
   "metadata": {},
   "source": [
    "#### Create generators to provide training samples"
   ]
  },
  {
   "cell_type": "code",
   "execution_count": 29,
   "metadata": {},
   "outputs": [],
   "source": [
    "generator_t.reset()\n",
    "generator_v.reset()"
   ]
  },
  {
   "cell_type": "markdown",
   "metadata": {},
   "source": [
    "#### Create callback functions for training"
   ]
  },
  {
   "cell_type": "code",
   "execution_count": 30,
   "metadata": {},
   "outputs": [],
   "source": [
    "weights_label='weights_slow'\n",
    "callbacks, weights_path = util_training.create_callbacks(data_root, model_id, weights_label=weights_label, patience=5)"
   ]
  },
  {
   "cell_type": "markdown",
   "metadata": {},
   "source": [
    "#### Conduct training using `fit_generator` and visualize progress"
   ]
  },
  {
   "cell_type": "code",
   "execution_count": 31,
   "metadata": {
    "scrolled": false
   },
   "outputs": [
    {
     "name": "stdout",
     "output_type": "stream",
     "text": [
      "Epoch 1/500\n",
      "273/273 [==============================] - 21s 75ms/step - loss: 3.6175 - acc: 0.6930\n",
      "571/571 [==============================] - 35s 61ms/step - loss: 0.5516 - acc: 0.8432 - val_loss: 3.6175 - val_acc: 0.6930\n",
      "Epoch 2/500\n",
      "273/273 [==============================] - 20s 72ms/step - loss: 3.3836 - acc: 0.6773\n",
      "571/571 [==============================] - 30s 53ms/step - loss: 0.4785 - acc: 0.8637 - val_loss: 3.3836 - val_acc: 0.6773\n",
      "Epoch 3/500\n",
      "273/273 [==============================] - 20s 74ms/step - loss: 4.3978 - acc: 0.6792\n",
      "571/571 [==============================] - 32s 56ms/step - loss: 0.4290 - acc: 0.8756 - val_loss: 4.3978 - val_acc: 0.6792\n",
      "Epoch 4/500\n",
      "273/273 [==============================] - 20s 74ms/step - loss: 4.0959 - acc: 0.6924\n",
      "571/571 [==============================] - 32s 56ms/step - loss: 0.3908 - acc: 0.8867 - val_loss: 4.0959 - val_acc: 0.6924\n",
      "Epoch 5/500\n",
      "273/273 [==============================] - 20s 74ms/step - loss: 3.8558 - acc: 0.6813\n",
      "571/571 [==============================] - 32s 56ms/step - loss: 0.3566 - acc: 0.8950 - val_loss: 3.8558 - val_acc: 0.6813\n",
      "Epoch 6/500\n",
      "273/273 [==============================] - 20s 75ms/step - loss: 4.3930 - acc: 0.6831\n",
      "571/571 [==============================] - 32s 56ms/step - loss: 0.3295 - acc: 0.9020 - val_loss: 4.3930 - val_acc: 0.6831\n",
      "Epoch 7/500\n",
      "273/273 [==============================] - 21s 76ms/step - loss: 5.6299 - acc: 0.6937\n",
      "571/571 [==============================] - 33s 57ms/step - loss: 0.3048 - acc: 0.9093 - val_loss: 5.6299 - val_acc: 0.6937\n"
     ]
    },
    {
     "data": {
      "image/png": "[encoded data removed]",
      "text/plain": [
       "<Figure size 432x288 with 1 Axes>"
      ]
     },
     "metadata": {
      "needs_background": "light"
     },
     "output_type": "display_data"
    },
    {
     "data": {
      "image/png": "[encoded data removed]",
      "text/plain": [
       "<Figure size 432x288 with 1 Axes>"
      ]
     },
     "metadata": {
      "needs_background": "light"
     },
     "output_type": "display_data"
    }
   ],
   "source": [
    "history_slow = network.fit_generator(generator_t, epochs=epochs, callbacks=callbacks, steps_per_epoch=generator_t.steps,\n",
    "                                    validation_data=generator_v, validation_steps=generator_v.steps,\n",
    "                                    shuffle=True,use_multiprocessing=True,max_queue_size=40,workers=64,)\n",
    "\n",
    "plt.plot(history_slow.history['val_acc'])\n",
    "plt.show()\n",
    "plt.plot(history_slow.history['val_loss'])\n",
    "plt.show()"
   ]
  },
  {
   "cell_type": "markdown",
   "metadata": {},
   "source": [
    "---"
   ]
  },
  {
   "cell_type": "markdown",
   "metadata": {},
   "source": [
    "## Scoring"
   ]
  },
  {
   "cell_type": "markdown",
   "metadata": {},
   "source": [
    "### Apply model to training and validation data"
   ]
  },
  {
   "cell_type": "code",
   "execution_count": 32,
   "metadata": {},
   "outputs": [
    {
     "name": "stdout",
     "output_type": "stream",
     "text": [
      "571/571 [==============================] - 15s 27ms/step\n",
      "(73026, 3)\n",
      "273/273 [==============================] - 13s 46ms/step\n",
      "(34865, 3)\n"
     ]
    }
   ],
   "source": [
    "generator_t.reset()\n",
    "#predict_generator(generator, steps=None, max_queue_size=10, workers=1, use_multiprocessing=False, verbose=0)\n",
    "predictions_t = network.predict_generator(generator_t, steps=generator_t.steps, verbose=1,\n",
    "                  use_multiprocessing=True,max_queue_size=40,workers=64,)\n",
    "print(predictions_t.shape)\n",
    "\n",
    "generator_v.reset()\n",
    "#predict_generator(generator, steps=None, max_queue_size=10, workers=1, use_multiprocessing=False, verbose=0)\n",
    "predictions_v = network.predict_generator(generator_v, steps=generator_v.steps, verbose=1,\n",
    "                  use_multiprocessing=True,max_queue_size=40,workers=64,)\n",
    "print(predictions_v.shape)"
   ]
  },
  {
   "cell_type": "code",
   "execution_count": 33,
   "metadata": {},
   "outputs": [
    {
     "name": "stdout",
     "output_type": "stream",
     "text": [
      "(73026,)\n",
      "(34865,)\n"
     ]
    }
   ],
   "source": [
    "Yhat_t = predictions_t.argmax(axis=-1)\n",
    "print(Yhat_t.shape)\n",
    "Yhat_v = predictions_v.argmax(axis=-1)\n",
    "print(Yhat_v.shape)"
   ]
  },
  {
   "cell_type": "markdown",
   "metadata": {},
   "source": [
    "### Extract corresponding _actual_ ground-truth values directly from catalog"
   ]
  },
  {
   "cell_type": "code",
   "execution_count": 34,
   "metadata": {},
   "outputs": [
    {
     "name": "stdout",
     "output_type": "stream",
     "text": [
      "(73026,)\n",
      "(34865,)\n"
     ]
    }
   ],
   "source": [
    "Y_t = generator_t.get_label_series().values\n",
    "print(Y_t.shape)\n",
    "Y_v = generator_v.get_label_series().values\n",
    "print(Y_v.shape)"
   ]
  },
  {
   "cell_type": "markdown",
   "metadata": {},
   "source": [
    "### Generate typical scoring information"
   ]
  },
  {
   "cell_type": "code",
   "execution_count": 36,
   "metadata": {},
   "outputs": [
    {
     "name": "stdout",
     "output_type": "stream",
     "text": [
      "evaluate training\n",
      "0 35976\n",
      "1 6520\n",
      "2 30530\n",
      "[[31200   507  4269]\n",
      " [  182  5942   396]\n",
      " [  667   311 29552]]\n",
      "73026 66694 0.9132911565743708\n"
     ]
    }
   ],
   "source": [
    "print(\"evaluate training\")\n",
    "# hardcoded categories\n",
    "categories=[0,1,2]\n",
    "train_confusion = util_scoring.calc_confusion(Yhat_t,Y_t,categories)\n",
    "train_recalls, train_precisions, train_accuracy = util_scoring.calc_confusion_details(train_confusion)\n",
    "\n",
    "# Calculate f-score\n",
    "beta = 2\n",
    "train_f_score = (beta**2 + 1) * train_precisions * train_recalls / ( (beta**2 * train_precisions) + train_recalls )\n",
    "train_f_score_open = train_f_score[0] \n",
    "train_f_score_nonres = train_f_score[1]  \n",
    "train_f_score_res = train_f_score[2]  \n",
    "train_f_score_roads = None#train_f_score[3]  \n",
    "train_f_score_average = np.mean(train_f_score)"
   ]
  },
  {
   "cell_type": "code",
   "execution_count": 37,
   "metadata": {},
   "outputs": [
    {
     "name": "stdout",
     "output_type": "stream",
     "text": [
      "evaluate validation\n",
      "0 19104\n",
      "1 5395\n",
      "2 10366\n",
      "[[14759   643  3702]\n",
      " [ 1537   723  3135]\n",
      " [ 1433   230  8703]]\n",
      "34865 24185 0.6936756059085042\n"
     ]
    }
   ],
   "source": [
    "print (\"evaluate validation\")\n",
    "valid_confusion = util_scoring.calc_confusion(Yhat_v,Y_v,categories)\n",
    "valid_recalls, valid_precisions, valid_accuracy = util_scoring.calc_confusion_details(valid_confusion)\n",
    "\n",
    "# Calculate f-score\n",
    "valid_f_score = (beta**2 + 1) * valid_precisions * valid_recalls / ( (beta**2 * valid_precisions) + valid_recalls )\n",
    "valid_f_score_open = valid_f_score[0] \n",
    "valid_f_score_nonres = valid_f_score[1] \n",
    "valid_f_score_res = valid_f_score[2] \n",
    "valid_f_score_roads = None# valid_f_score[3] \n",
    "valid_f_score_average = np.mean(valid_f_score)"
   ]
  },
  {
   "cell_type": "code",
   "execution_count": 38,
   "metadata": {},
   "outputs": [],
   "source": [
    "# expanding lists to match expected model_record stuff\n",
    "train_recalls_expanded = [train_recalls[0],train_recalls[1],train_recalls[2],None]\n",
    "valid_recalls_expanded = [valid_recalls[0],valid_recalls[1],valid_recalls[2],None]\n",
    "train_precisions_expanded = [train_precisions[0],train_precisions[1],train_precisions[2],None]\n",
    "valid_precisions_expanded = [valid_precisions[0],valid_precisions[1],valid_precisions[2],None]"
   ]
  },
  {
   "cell_type": "markdown",
   "metadata": {},
   "source": [
    "### Record experiment configuration and results"
   ]
  },
  {
   "cell_type": "code",
   "execution_count": 40,
   "metadata": {},
   "outputs": [
    {
     "name": "stdout",
     "output_type": "stream",
     "text": [
      "/data/phase_iv/models/3cat_hyd_test.hd5\n",
      "model scorecard updated\n"
     ]
    }
   ],
   "source": [
    "#scaler_filename = data_root+'models/'+model_id+'_scaler.pkl'\n",
    "#model_filename  = data_root+'models/'+model_id+'_SVM.pkl'\n",
    "place_locales_filename = data_root+'models/'+model_id+'_place_locales.pkl'\n",
    "category_weights_filename = data_root+'models/'+model_id+'_category_weights.pkl'\n",
    "network_filename = data_root+'models/'+model_id+'.hd5'\n",
    "\n",
    "if os.path.exists(network_filename):\n",
    "    print('Aborting all pickle operations: file already exists at specified path ('+network_filename+')')\n",
    "elif os.path.exists(category_weights_filename):\n",
    "    print ('Aborting all pickle operations: file already exists at specified path ('+category_weights_filename+')')\n",
    "else:\n",
    "    print (network_filename)\n",
    "    pickle.dump(place_locales, open(place_locales_filename, 'wb'))\n",
    "    pickle.dump(category_weights, open(category_weights_filename, 'wb'))\n",
    "    network.save(network_filename)\n",
    "    # tracking only occurs if all saves are successful\n",
    "    util_scoring.record_model_creation(\n",
    "        model_id, notes, place_images, label_suffix+label_lot, resolution, stack_label, feature_count, \n",
    "        window, generator_t.remapping, balancing, \n",
    "        network.get_config(), epochs, batch_size,\n",
    "        train_confusion, train_recalls_expanded, train_precisions_expanded, train_accuracy,\n",
    "        train_f_score_open, train_f_score_nonres, train_f_score_res, train_f_score_roads, train_f_score_average,\n",
    "        valid_confusion, valid_recalls_expanded, valid_precisions_expanded, valid_accuracy,\n",
    "        valid_f_score_open, valid_f_score_nonres, valid_f_score_res, valid_f_score_roads, valid_f_score_average,)\n"
   ]
  },
  {
   "cell_type": "markdown",
   "metadata": {},
   "source": [
    "---"
   ]
  }
 ],
 "metadata": {
  "kernelspec": {
   "display_name": "Python [conda env:geoml]",
   "language": "python",
   "name": "conda-env-geoml-py"
  },
  "language_info": {
   "codemirror_mode": {
    "name": "ipython",
    "version": 3
   },
   "file_extension": ".py",
   "mimetype": "text/x-python",
   "name": "python",
   "nbconvert_exporter": "python",
   "pygments_lexer": "ipython3",
   "version": "3.6.8"
  }
 },
 "nbformat": 4,
 "nbformat_minor": 2
}
